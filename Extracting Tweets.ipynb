{
 "cells": [
  {
   "cell_type": "markdown",
   "metadata": {},
   "source": [
    "# Extracting Tweets"
   ]
  },
  {
   "cell_type": "code",
   "execution_count": 1,
   "metadata": {},
   "outputs": [],
   "source": [
    "import tweepy\n",
    "import pandas as pd\n",
    "import numpy as np\n",
    "import matplotlib.pyplot as plt\n",
    "import csv\n",
    "import re\n",
    "import datetime\n",
    "import time\n",
    "from textblob import TextBlob"
   ]
  },
  {
   "cell_type": "code",
   "execution_count": 2,
   "metadata": {},
   "outputs": [],
   "source": [
    "def clean_tweet(txt):\n",
    "    txt = re.sub(r'@[A-Za-z0-9_]+', \"\", txt)\n",
    "    txt = re.sub(r'#', \"\", txt)\n",
    "    txt = re.sub(r'\\n', \"\", txt)\n",
    "    txt = re.sub(r'RT :', \"\", txt)\n",
    "    txt = re.sub(r'https?:\\/\\/[A-Za-z0-9\\.\\/]+', \"\", txt)\n",
    "    return txt"
   ]
  },
  {
   "cell_type": "markdown",
   "metadata": {},
   "source": [
    "## MySQL Authorization"
   ]
  },
  {
   "cell_type": "code",
   "execution_count": 3,
   "metadata": {},
   "outputs": [],
   "source": [
    "import mysql.connector\n",
    "from mysql.connector import Error\n",
    "\n",
    "from mysql_credentials import *\n",
    "\n",
    "host = HOST\n",
    "user = USER\n",
    "password = PASSWORD\n",
    "database = 'twitter'"
   ]
  },
  {
   "cell_type": "markdown",
   "metadata": {},
   "source": [
    "## Create MySQL Functions  "
   ]
  },
  {
   "cell_type": "markdown",
   "metadata": {},
   "source": [
    "### Connecting to MySQL Server"
   ]
  },
  {
   "cell_type": "code",
   "execution_count": 4,
   "metadata": {},
   "outputs": [],
   "source": [
    "def create_server_connection(host_name, user_name, user_password):\n",
    "    connection = None\n",
    "    try:\n",
    "        connection = mysql.connector.connect(\n",
    "            host = host_name,\n",
    "            user = user_name,\n",
    "            passwd = user_password\n",
    "        )\n",
    "        print(\"MySQL Database connection successful!\")\n",
    "    except Error as err:\n",
    "        print(f\"Error: '{err}'\")\n",
    "    return connection"
   ]
  },
  {
   "cell_type": "markdown",
   "metadata": {},
   "source": [
    "### Create Database Function"
   ]
  },
  {
   "cell_type": "code",
   "execution_count": 5,
   "metadata": {},
   "outputs": [],
   "source": [
    "def create_database(connection, query):\n",
    "    cursor = connection.cursor()\n",
    "    try:\n",
    "        cursor.execute(query)\n",
    "        print(\"Database created successfully!\")\n",
    "    except Error as err:\n",
    "        print(f\"Error: '{err}'\")"
   ]
  },
  {
   "cell_type": "markdown",
   "metadata": {},
   "source": [
    "### Connecting to the Database "
   ]
  },
  {
   "cell_type": "code",
   "execution_count": 6,
   "metadata": {},
   "outputs": [],
   "source": [
    "def create_db_connection(host_name, user_name, user_password, db_name):\n",
    "    connection = None\n",
    "    try:\n",
    "        connection = mysql.connector.connect(\n",
    "            host = host_name,\n",
    "            user = user_name,\n",
    "            passwd = user_password,\n",
    "            database = db_name\n",
    "        )\n",
    "        print(\"MySQL Database connection successful!\")\n",
    "    except Error as err:\n",
    "        print(f\"Error: '{err}'\")\n",
    "        \n",
    "    return connection"
   ]
  },
  {
   "cell_type": "markdown",
   "metadata": {},
   "source": [
    "### Create a Query Execution Function"
   ]
  },
  {
   "cell_type": "code",
   "execution_count": 7,
   "metadata": {},
   "outputs": [],
   "source": [
    "def execute_query(connection, query):\n",
    "    cursor = connection.cursor()\n",
    "    try:\n",
    "        cursor.execute(query)\n",
    "        connection.commit()\n",
    "        print(\"Query successful!\")\n",
    "    except Error as err:\n",
    "        print(f\"Error: '{err}'\")"
   ]
  },
  {
   "cell_type": "markdown",
   "metadata": {},
   "source": [
    "### Select Function"
   ]
  },
  {
   "cell_type": "code",
   "execution_count": 8,
   "metadata": {},
   "outputs": [],
   "source": [
    "def read_query(connection, query):\n",
    "    cursor = connection.cursor()\n",
    "    result = None\n",
    "    try:\n",
    "        cursor.execute(query)\n",
    "        result = cursor.fetchall()\n",
    "        return result\n",
    "    except Error as err:\n",
    "        print(f\"Error: '{err}'\")"
   ]
  },
  {
   "cell_type": "markdown",
   "metadata": {},
   "source": [
    "### Insert Many Records Into SQL- Creating Records from Lists\n"
   ]
  },
  {
   "cell_type": "code",
   "execution_count": 9,
   "metadata": {},
   "outputs": [],
   "source": [
    "def execute_list_query(connection, sql, val):\n",
    "    cursor = connection.cursor()\n",
    "    try:\n",
    "        cursor.executemany(sql, val)\n",
    "        connection.commit()\n",
    "        print(\"Query successful\")\n",
    "    except Error as err:\n",
    "        print(f\"Error: '{err}'\")"
   ]
  },
  {
   "cell_type": "markdown",
   "metadata": {},
   "source": [
    "## Create twitter Database and tweets Table"
   ]
  },
  {
   "cell_type": "code",
   "execution_count": 10,
   "metadata": {},
   "outputs": [
    {
     "name": "stdout",
     "output_type": "stream",
     "text": [
      "MySQL Database connection successful!\n",
      "Database created successfully!\n"
     ]
    }
   ],
   "source": [
    "# Establish connection\n",
    "connection = create_server_connection(host, user, password)\n",
    "\n",
    "# Create twitter Database\n",
    "#create_database(connection, \"CREATE DATABASE twitter;\")\n",
    "create_database(connection, \"CREATE DATABASE \" + database + \";\")\n",
    "\n",
    "connection.close()"
   ]
  },
  {
   "cell_type": "code",
   "execution_count": 11,
   "metadata": {},
   "outputs": [
    {
     "name": "stdout",
     "output_type": "stream",
     "text": [
      "MySQL Database connection successful!\n",
      "Query successful!\n"
     ]
    }
   ],
   "source": [
    "# Establish connection\n",
    "connection = create_db_connection(host, user, password, database)\n",
    "\n",
    "#Create tweets Table\n",
    "sql = \"\"\"\n",
    "CREATE TABLE tweets(\n",
    "id_str VARCHAR(255) NOT NULL,\n",
    "username VARCHAR(255),\n",
    "tweets VARCHAR(1024),\n",
    "clean_tweets VARCHAR(1024),\n",
    "created_at DATETIME,\n",
    "location VARCHAR(255),\n",
    "source VARCHAR(255),\n",
    "likes INT,\n",
    "retweet_count INT\n",
    ");\n",
    "\"\"\"\n",
    "execute_query(connection, sql)\n",
    "\n",
    "connection.close()"
   ]
  },
  {
   "cell_type": "markdown",
   "metadata": {},
   "source": [
    "## Twitter: Connect to Twitter, Extract Tweets, and Save to MySQL"
   ]
  },
  {
   "cell_type": "markdown",
   "metadata": {},
   "source": [
    "### Import Access Keys:\n"
   ]
  },
  {
   "cell_type": "code",
   "execution_count": 12,
   "metadata": {},
   "outputs": [],
   "source": [
    "from TwitterNFTcredentials import * \n",
    "\n",
    "# Consumer:\n",
    "consumer_key = CONSUMER_KEY\n",
    "consumer_secret = CONSUMER_SECRET\n",
    "\n",
    "# Access:\n",
    "access_key = ACCESS_TOKEN\n",
    "access_secret = ACCESS_SECRET"
   ]
  },
  {
   "cell_type": "markdown",
   "metadata": {},
   "source": [
    "### Authorize with Tweepy's OAuthhandler:"
   ]
  },
  {
   "cell_type": "code",
   "execution_count": 13,
   "metadata": {},
   "outputs": [],
   "source": [
    "auth = tweepy.OAuthHandler(consumer_key, consumer_secret)\n",
    "auth.set_access_token(access_key, access_secret)\n",
    "\n",
    "api = tweepy.API(auth)"
   ]
  },
  {
   "cell_type": "markdown",
   "metadata": {},
   "source": [
    "### Extract Tweets:"
   ]
  },
  {
   "cell_type": "code",
   "execution_count": null,
   "metadata": {},
   "outputs": [
    {
     "name": "stdout",
     "output_type": "stream",
     "text": [
      "Iteration number: = 1\n",
      "MySQL Database connection successful!\n",
      "Query successful\n",
      "Iteration number: = 2\n",
      "MySQL Database connection successful!\n",
      "Query successful\n",
      "Iteration number: = 3\n",
      "MySQL Database connection successful!\n",
      "Query successful\n",
      "Iteration number: = 4\n",
      "MySQL Database connection successful!\n",
      "Query successful\n",
      "13:55:55\n",
      "Elective timeout in order to avoid Twitter's 'status code = 429'\n",
      "wait for 15 minutes\n",
      "wait for 10 minutes\n",
      "wait for 5 minutes\n",
      "Iteration number: = 5\n",
      "MySQL Database connection successful!\n",
      "Query successful\n",
      "Iteration number: = 6\n",
      "MySQL Database connection successful!\n",
      "Query successful\n",
      "Iteration number: = 7\n",
      "MySQL Database connection successful!\n",
      "Query successful\n",
      "Iteration number: = 8\n",
      "MySQL Database connection successful!\n",
      "Query successful\n",
      "14:13:23\n",
      "Elective timeout in order to avoid Twitter's 'status code = 429'\n",
      "wait for 15 minutes\n"
     ]
    }
   ],
   "source": [
    "#hashtag_phrase = \"#nfts OR #nft OR #nftart OR #nftartist OR #nftcollector OR #cryptoart OR #digitalart OR #nftcommunity OR #art OR #crypto OR #ethereum OR #cryptocurrency OR #cryptoartist OR #opensea OR #nftcollectors OR #nftdrop OR #nftcollectibles OR #artist OR #eth OR #openseanft OR #nftartists OR #artwork OR #artoftheday OR #raredigitalart OR #nftartgallery OR OR #bhfyp OR #animation OR #nftartwork OR #abstractart OR #rarible OR #cryptonews OR #nftcollection OR #cryptotrading OR #artgallery OR #btc OR #nftsstories OR #cryptocurrencies OR #digitalillustration OR #digitalartist OR #modernart OR #digitalcollectibles OR #music OR #superrare OR #pixelart OR #investing OR #illustration OR #artcollector OR #collectibles OR #binance OR #hicetnunc OR #cryptoworld OR #cryptoinvestor\"\n",
    "hashtag_phrase1 = \"#nfts OR #nft OR #nftart OR #nftartist OR #nftcollector OR #cryptoart OR #digitalart OR #nftcommunity OR #art OR #crypto OR #ethereum OR #cryptocurrency OR #cryptoartist OR #opensea OR #nftcollectors OR #nftdrop OR #nftcollectibles OR #artist OR #eth OR #openseanft\" \n",
    "hashtag_phrase2 = \"#nftartists OR #artwork OR #artoftheday OR #raredigitalart OR #nftartgallery OR #bhfyp OR #animation OR #nftartwork OR #abstractart OR #rarible OR #cryptonews OR #nftcollection OR #cryptotrading OR #artgallery OR #btc OR #nftsstories OR #cryptocurrencies OR #digitalillustration\" \n",
    "hashtag_phrase3 = \"#digitalartist OR #modernart OR #digitalcollectibles OR #music OR #superrare OR #pixelart OR #investing OR #illustration OR #artcollector OR #collectibles OR #binance OR #hicetnunc OR #cryptoworld OR #cryptoinvestor\"\n",
    "hashtag_phrase = hashtag_phrase1\n",
    "\n",
    "# Create a csv file for output\n",
    "csv_file = open('NFTtweets.csv', 'a', encoding='utf-8') \n",
    "csv_writer = csv.writer(csv_file)\n",
    "  \n",
    "\n",
    "number_of_tweets = 500\n",
    "id_str = []; username = []; tweets = []; clean_tweets = []; created_at = [];  \n",
    "location = []; source = []; likes = []; retweet_count = []\n",
    "\n",
    "ctr = 0\n",
    "while ctr < 8:\n",
    "    ctr = ctr + 1\n",
    "    print (\"Iteration number: = {}\".format(ctr))\n",
    "\n",
    "    id_str.clear(); username.clear(); tweets.clear(); clean_tweets.clear(); created_at.clear();  \n",
    "    location.clear(); source.clear(); likes.clear(); retweet_count.clear()\n",
    "    \n",
    "    try:\n",
    "        cursor = tweepy.Cursor(api.search_tweets, q=hashtag_phrase +' -filter:retweets',\n",
    "                               lang=\"en\", tweet_mode = \"extended\").items(number_of_tweets)\n",
    "\n",
    "        for tweet in cursor:\n",
    "            id_str.append(tweet.id_str)\n",
    "            username.append(tweet.user.screen_name)\n",
    "            tweets.append(tweet.full_text)\n",
    "            clean_tweets.append(clean_tweet(tweet.full_text))\n",
    "            created_at.append(tweet.created_at)\n",
    "            location.append(tweet.user.location)\n",
    "            source.append(tweet.source)\n",
    "            likes.append(tweet.favorite_count)\n",
    "            retweet_count.append(tweet.retweet_count)\n",
    "\n",
    "            # Write the record\n",
    "            csv_writer.writerow([tweet.id_str, tweet.user.screen_name, tweet.full_text, clean_tweet(tweet.full_text),\n",
    "                                 tweet.created_at, tweet.user.location, tweet.source, tweet.favorite_count, \n",
    "                                 tweet.retweet_count])\n",
    "         \n",
    "        \n",
    "        # Insert the Extracted Tweets into MySQL\n",
    "        sql = '''\n",
    "        INSERT INTO tweets(id_str, username, tweets, clean_tweets, created_at, location, source, likes, retweet_count)\n",
    "        VALUES(%s,%s,%s,%s,%s,%s,%s,%s,%s)\n",
    "        '''\n",
    "        val = []\n",
    "\n",
    "        for i in range(len(tweets)):\n",
    "            val.append([id_str[i],\n",
    "                        username[i], \n",
    "                        tweets[i], \n",
    "                        clean_tweets[i],\n",
    "                        created_at[i], \n",
    "                        location[i], \n",
    "                        source[i], \n",
    "                        likes[i], \n",
    "                        retweet_count[i]\n",
    "                       ])\n",
    "\n",
    "        connection = create_db_connection(host, user, password, database)\n",
    "        execute_list_query(connection, sql, val)\n",
    "        connection.close()\n",
    "        \n",
    "        if ctr % 4 == 0:   # i.e. 4 iterations (500 tweets each). let's take an elective timeout!!!\n",
    "            print(datetime.datetime.now().strftime('%H:%M:%S'))\n",
    "            print(\"Elective timeout in order to avoid Twitter's 'status code = 429'\")\n",
    "            for i in range(3,0,-1):\n",
    "                print('wait for {} minutes'.format(i*5))\n",
    "                time.sleep(5*60)\n",
    "\n",
    "    except tweepy.TooManyRequests as e:\n",
    "        print(e.reason)\n",
    "        for i in range(3,0,-1):\n",
    "            print('wait for {} minutes'.format(i*5))\n",
    "            time.sleep(5*60)\n",
    "            \n",
    "            \n",
    "# Now we can save it to a csv file\n",
    "csv_file.close() # close the csv file"
   ]
  },
  {
   "cell_type": "code",
   "execution_count": null,
   "metadata": {},
   "outputs": [],
   "source": []
  }
 ],
 "metadata": {
  "kernelspec": {
   "display_name": "Python 3",
   "language": "python",
   "name": "python3"
  },
  "language_info": {
   "codemirror_mode": {
    "name": "ipython",
    "version": 3
   },
   "file_extension": ".py",
   "mimetype": "text/x-python",
   "name": "python",
   "nbconvert_exporter": "python",
   "pygments_lexer": "ipython3",
   "version": "3.8.3"
  }
 },
 "nbformat": 4,
 "nbformat_minor": 4
}
